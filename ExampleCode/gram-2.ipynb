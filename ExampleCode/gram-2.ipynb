{
 "cells": [
  {
   "cell_type": "code",
   "execution_count": 10,
   "id": "6a7304b6-aae3-45cc-8ffa-1ab955605d7c",
   "metadata": {},
   "outputs": [
    {
     "name": "stdout",
     "output_type": "stream",
     "text": [
      "Requirement already satisfied: konlpy in c:\\users\\winter\\anaconda3\\lib\\site-packages (0.6.0)\n",
      "Requirement already satisfied: JPype1>=0.7.0 in c:\\users\\winter\\anaconda3\\lib\\site-packages (from konlpy) (1.5.0)\n",
      "Requirement already satisfied: lxml>=4.1.0 in c:\\users\\winter\\anaconda3\\lib\\site-packages (from konlpy) (4.9.3)\n",
      "Requirement already satisfied: numpy>=1.6 in c:\\users\\winter\\anaconda3\\lib\\site-packages (from konlpy) (1.26.4)\n",
      "Requirement already satisfied: packaging in c:\\users\\winter\\anaconda3\\lib\\site-packages (from JPype1>=0.7.0->konlpy) (23.1)\n"
     ]
    }
   ],
   "source": [
    "!pip install konlpy"
   ]
  },
  {
   "cell_type": "code",
   "execution_count": 11,
   "id": "2dbc71b6-60e4-4699-8523-a3b4694b15b0",
   "metadata": {},
   "outputs": [],
   "source": [
    "from konlpy.tag import Komoran"
   ]
  },
  {
   "cell_type": "code",
   "execution_count": 4,
   "id": "bfadf1d5-1b5d-4bbb-a2c6-d508b5620c00",
   "metadata": {},
   "outputs": [],
   "source": [
    "# 어절 단위 n-gram\n",
    "def word_ngram(bow, num_gram):\n",
    "    text = tuple(bow)\n",
    "    ngrams = [text[x:x + num_gram] for x in range(0, len(text))]\n",
    "    return tuple(ngrams)"
   ]
  },
  {
   "cell_type": "code",
   "execution_count": 6,
   "id": "b9b804eb-fe1b-4c79-82bf-257c3f4177e9",
   "metadata": {},
   "outputs": [],
   "source": [
    "# 유사도 계산\n",
    "def similarity(doc1, doc2):\n",
    "    cnt = 0\n",
    "    for token in doc1:\n",
    "        if token in doc2:\n",
    "            cnt = cnt + 1\n",
    "    return cnt/len(doc1)"
   ]
  },
  {
   "cell_type": "code",
   "execution_count": 8,
   "id": "1a04a378-98a1-4a01-9ac9-7c597e49711c",
   "metadata": {},
   "outputs": [],
   "source": [
    "# 문장 정의\n",
    "sentence1 = '6월에 뉴턴은 선생님의 제안으로 트리니티에 입학했다.'\n",
    "sentence2 = '6월에 뉴턴은 선생님의 제안으로 대학교에 입학했다.'\n",
    "sentence3 = '나는 맛있는 밥을 뉴턴 선생님과 함께 먹었다.'"
   ]
  },
  {
   "cell_type": "code",
   "execution_count": 13,
   "id": "8e61655a-5847-42e2-a5b2-7cc15aa3dcfa",
   "metadata": {},
   "outputs": [],
   "source": [
    "# 형태소 분석기에서 명사(단어) 추출\n",
    "komoran = Komoran()\n",
    "bow1 = komoran.nouns(sentence1)\n",
    "bow2 = komoran.nouns(sentence2)\n",
    "bow3 = komoran.nouns(sentence3)"
   ]
  },
  {
   "cell_type": "code",
   "execution_count": 15,
   "id": "a24f782c-1f11-4b9a-8b13-cf2862df2ff5",
   "metadata": {},
   "outputs": [],
   "source": [
    "# 단어 n-gram 토큰 추출\n",
    "doc1 = word_ngram(bow1, 2) # 2-gram 방식으로 추출\n",
    "doc2 = word_ngram(bow2, 2)\n",
    "doc3 = word_ngram(bow3, 2)"
   ]
  },
  {
   "cell_type": "code",
   "execution_count": 21,
   "id": "9c1beec7-1807-4730-b98e-5be180c0f69e",
   "metadata": {},
   "outputs": [
    {
     "name": "stdout",
     "output_type": "stream",
     "text": [
      "(('6월', '뉴턴'), ('뉴턴', '선생님'), ('선생님', '제안'), ('제안', '트리니티'), ('트리니티', '입학'), ('입학',))\n",
      "(('6월', '뉴턴'), ('뉴턴', '선생님'), ('선생님', '제안'), ('제안', '대학교'), ('대학교', '입학'), ('입학',))\n",
      "(('밥', '뉴턴'), ('뉴턴', '선생'), ('선생', '님과 함께'), ('님과 함께',))\n"
     ]
    }
   ],
   "source": [
    "# 추출된 n-gram 토큰 출력\n",
    "print(doc1)\n",
    "print(doc2)\n",
    "print(doc3)"
   ]
  },
  {
   "cell_type": "code",
   "execution_count": 22,
   "id": "0c0bbc1b-4053-44c7-954d-0281b021903f",
   "metadata": {},
   "outputs": [],
   "source": [
    "# 유사도 계산\n",
    "r1 = similarity(doc1, doc2)\n",
    "r2 = similarity(doc3, doc1)"
   ]
  },
  {
   "cell_type": "code",
   "execution_count": 23,
   "id": "9363c5ea-0b1c-4e92-8709-9d6b76f8e82e",
   "metadata": {},
   "outputs": [
    {
     "name": "stdout",
     "output_type": "stream",
     "text": [
      "0.6666666666666666\n",
      "0.0\n"
     ]
    }
   ],
   "source": [
    "# 계산된 유사도 출력\n",
    "print(r1)\n",
    "print(r2)"
   ]
  }
 ],
 "metadata": {
  "kernelspec": {
   "display_name": "Python 3 (ipykernel)",
   "language": "python",
   "name": "python3"
  },
  "language_info": {
   "codemirror_mode": {
    "name": "ipython",
    "version": 3
   },
   "file_extension": ".py",
   "mimetype": "text/x-python",
   "name": "python",
   "nbconvert_exporter": "python",
   "pygments_lexer": "ipython3",
   "version": "3.11.7"
  }
 },
 "nbformat": 4,
 "nbformat_minor": 5
}

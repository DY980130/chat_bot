{
 "cells": [
  {
   "cell_type": "code",
   "execution_count": 2,
   "id": "81185aa5-4d56-4094-848a-cbb8578d6d79",
   "metadata": {},
   "outputs": [
    {
     "name": "stdout",
     "output_type": "stream",
     "text": [
      "Requirement already satisfied: gensim in c:\\users\\winter\\anaconda3\\lib\\site-packages (4.3.0)\n",
      "Requirement already satisfied: numpy>=1.18.5 in c:\\users\\winter\\anaconda3\\lib\\site-packages (from gensim) (1.26.4)\n",
      "Requirement already satisfied: scipy>=1.7.0 in c:\\users\\winter\\anaconda3\\lib\\site-packages (from gensim) (1.11.4)\n",
      "Requirement already satisfied: smart-open>=1.8.1 in c:\\users\\winter\\anaconda3\\lib\\site-packages (from gensim) (5.2.1)\n",
      "Requirement already satisfied: FuzzyTM>=0.4.0 in c:\\users\\winter\\anaconda3\\lib\\site-packages (from gensim) (2.0.9)\n",
      "Requirement already satisfied: pandas in c:\\users\\winter\\anaconda3\\lib\\site-packages (from FuzzyTM>=0.4.0->gensim) (2.1.4)\n",
      "Requirement already satisfied: pyfume in c:\\users\\winter\\anaconda3\\lib\\site-packages (from FuzzyTM>=0.4.0->gensim) (0.3.1)\n",
      "Requirement already satisfied: python-dateutil>=2.8.2 in c:\\users\\winter\\anaconda3\\lib\\site-packages (from pandas->FuzzyTM>=0.4.0->gensim) (2.8.2)\n",
      "Requirement already satisfied: pytz>=2020.1 in c:\\users\\winter\\anaconda3\\lib\\site-packages (from pandas->FuzzyTM>=0.4.0->gensim) (2023.3.post1)\n",
      "Requirement already satisfied: tzdata>=2022.1 in c:\\users\\winter\\anaconda3\\lib\\site-packages (from pandas->FuzzyTM>=0.4.0->gensim) (2023.3)\n",
      "Requirement already satisfied: simpful in c:\\users\\winter\\anaconda3\\lib\\site-packages (from pyfume->FuzzyTM>=0.4.0->gensim) (2.12.0)\n",
      "Requirement already satisfied: fst-pso in c:\\users\\winter\\anaconda3\\lib\\site-packages (from pyfume->FuzzyTM>=0.4.0->gensim) (1.8.1)\n",
      "Requirement already satisfied: typing-extensions in c:\\users\\winter\\anaconda3\\lib\\site-packages (from pyfume->FuzzyTM>=0.4.0->gensim) (4.9.0)\n",
      "Requirement already satisfied: six>=1.5 in c:\\users\\winter\\anaconda3\\lib\\site-packages (from python-dateutil>=2.8.2->pandas->FuzzyTM>=0.4.0->gensim) (1.16.0)\n",
      "Requirement already satisfied: miniful in c:\\users\\winter\\anaconda3\\lib\\site-packages (from fst-pso->pyfume->FuzzyTM>=0.4.0->gensim) (0.0.6)\n"
     ]
    }
   ],
   "source": [
    "!pip install gensim"
   ]
  },
  {
   "cell_type": "code",
   "execution_count": 6,
   "id": "bf99d87f-6424-4120-bee8-a43d67034987",
   "metadata": {},
   "outputs": [],
   "source": [
    "from gensim.models import Word2Vec"
   ]
  },
  {
   "cell_type": "code",
   "execution_count": 8,
   "id": "e897f067-2418-4668-97ab-b640dfc6d0d6",
   "metadata": {},
   "outputs": [
    {
     "name": "stdout",
     "output_type": "stream",
     "text": [
      "corpus_total_words :  1076896\n"
     ]
    }
   ],
   "source": [
    "# 모델 로딩\n",
    "model = Word2Vec.load('nvmc.model')\n",
    "print(\"corpus_total_words : \", model.corpus_total_words)"
   ]
  },
  {
   "cell_type": "code",
   "execution_count": 10,
   "id": "912e3291-56bf-4900-844c-a58a29ab204e",
   "metadata": {},
   "outputs": [
    {
     "name": "stdout",
     "output_type": "stream",
     "text": [
      "사랑 :  [ 0.08512298 -0.35358217  0.47154826 -0.08985352 -0.09807893 -0.19992416\n",
      " -0.08956337  0.04029275  0.02865166  0.01411057 -0.18350062 -0.27915305\n",
      " -0.05207391 -0.18830153 -0.26419142  0.1895974  -0.20580347 -0.24024956\n",
      " -0.07719966 -0.44645357  0.29022896  0.05616796 -0.03679008  0.47041005\n",
      " -0.31157848 -0.2407248  -0.1034321   0.15872504 -0.18544061 -0.13770048\n",
      "  0.13071242  0.4984469   0.06443626 -0.13728428  0.11561177  0.12848552\n",
      "  0.02797109 -0.14127664  0.12288544  0.02657888 -0.09902048  0.08947006\n",
      "  0.03402087 -0.37518707  0.2202985   0.1854525  -0.23285733 -0.07933341\n",
      "  0.10878097  0.03261103 -0.05950842 -0.00555128 -0.1107349  -0.05769794\n",
      "  0.19380105  0.15375975  0.20259313 -0.11733094 -0.05778582 -0.08166484\n",
      " -0.17274468 -0.15309127 -0.35543117  0.00535041  0.06634077  0.06368183\n",
      " -0.40593445  0.17746401  0.25364798  0.0743371  -0.03197882 -0.21926609\n",
      "  0.11604914  0.10513656 -0.200921   -0.04860454  0.3173691  -0.13584456\n",
      " -0.08042886 -0.08530637 -0.07460956  0.08448455 -0.00365454  0.28133202\n",
      " -0.21639587 -0.10846224 -0.13321893 -0.05494307 -0.17836156  0.06971409\n",
      "  0.16241929  0.06311507  0.18888134  0.05935027  0.4583781  -0.21515715\n",
      " -0.21774143 -0.21058652 -0.13143529 -0.16787353 -0.3533073   0.58623064\n",
      "  0.5082131   0.2281406   0.0624501  -0.15142325 -0.05984979  0.033229\n",
      " -0.03571445 -0.52773076 -0.05690714 -0.16660601 -0.01310726 -0.19340226\n",
      "  0.45173383  0.04631152 -0.15304141 -0.14247696  0.14564161  0.02068465\n",
      " -0.04184343  0.07603306  0.0668363   0.14756615 -0.06029814  0.3048265\n",
      "  0.16104162  0.1849935  -0.12126634 -0.06713514  0.00614469  0.10617357\n",
      " -0.38558787 -0.07739025 -0.08796504  0.24371465  0.17217755 -0.39685044\n",
      " -0.3015004  -0.21931547  0.33787677 -0.2745082   0.09539741 -0.15027206\n",
      " -0.19410609  0.04176404 -0.20297366 -0.20004256  0.14296958 -0.01920938\n",
      "  0.21495605 -0.3323386   0.36297077  0.09455734 -0.10862728 -0.27210653\n",
      "  0.10877915  0.20332742  0.41123167 -0.3773145  -0.05310432 -0.03167814\n",
      " -0.08131907  0.05593648 -0.04207908  0.09442171 -0.32970962 -0.01806207\n",
      "  0.09396846  0.01368077 -0.53029084  0.11480614  0.21084197 -0.3170245\n",
      " -0.09996312 -0.14347251  0.4165867  -0.13505836  0.19331616 -0.30223823\n",
      " -0.14364862 -0.2284952   0.13305447  0.0585228  -0.1839983  -0.01168985\n",
      " -0.31889203  0.14159757  0.38143933  0.12534462 -0.0196131  -0.10921474\n",
      "  0.12094817 -0.11220769  0.19227414 -0.11266544 -0.05096782 -0.16512425\n",
      "  0.03268202  0.11349809]\n"
     ]
    }
   ],
   "source": [
    "# '사랑' 이란 단어로 생성한 단어 임베딩 벡터\n",
    "print('사랑 : ', model.wv['사랑'])"
   ]
  },
  {
   "cell_type": "code",
   "execution_count": 13,
   "id": "2693ca8b-6826-4089-bf70-a8d6ee543a7c",
   "metadata": {},
   "outputs": [
    {
     "name": "stdout",
     "output_type": "stream",
     "text": [
      "일요일 = 월요일\t 0.6595158\n",
      "안성기 = 배우\t 0.5647475\n",
      "대기업 = 삼성\t 0.5117668\n",
      "일요일 != 삼성\t 0.2238302\n",
      "히어로 != 삼성\t 0.16594741\n"
     ]
    }
   ],
   "source": [
    "# 단어 유사도 계산\n",
    "print(\"일요일 = 월요일\\t\", model.wv.similarity(w1='일요일', w2='월요일'))\n",
    "print(\"안성기 = 배우\\t\", model.wv.similarity(w1='안성기', w2='배우'))\n",
    "print(\"대기업 = 삼성\\t\", model.wv.similarity(w1='대기업', w2='삼성'))\n",
    "print(\"일요일 != 삼성\\t\", model.wv.similarity(w1='일요일', w2='삼성'))\n",
    "print(\"히어로 != 삼성\\t\", model.wv.similarity(w1='히어로', w2='삼성'))"
   ]
  },
  {
   "cell_type": "code",
   "execution_count": 14,
   "id": "87351247-da9f-4518-ab6e-ecb9e688ad3b",
   "metadata": {},
   "outputs": [
    {
     "name": "stdout",
     "output_type": "stream",
     "text": [
      "[('김흥국', 0.714617908000946), ('정려원', 0.7110918760299683), ('장미희', 0.7097545266151428), ('유다인', 0.706368625164032), ('라인업', 0.6971945762634277)]\n",
      "[('캐리비안의 해적', 0.6703230142593384), ('더 울버린', 0.6673954129219055), ('나니아 연대기', 0.6545884609222412), ('나이트메어', 0.6425256133079529), ('기사단', 0.6401747465133667)]\n"
     ]
    }
   ],
   "source": [
    "# 가장 유사한 단어 추출\n",
    "print(model.wv.most_similar(\"안성기\", topn=5))\n",
    "print(model.wv.most_similar(\"시리즈\", topn=5))"
   ]
  }
 ],
 "metadata": {
  "kernelspec": {
   "display_name": "Python 3 (ipykernel)",
   "language": "python",
   "name": "python3"
  },
  "language_info": {
   "codemirror_mode": {
    "name": "ipython",
    "version": 3
   },
   "file_extension": ".py",
   "mimetype": "text/x-python",
   "name": "python",
   "nbconvert_exporter": "python",
   "pygments_lexer": "ipython3",
   "version": "3.11.7"
  }
 },
 "nbformat": 4,
 "nbformat_minor": 5
}
